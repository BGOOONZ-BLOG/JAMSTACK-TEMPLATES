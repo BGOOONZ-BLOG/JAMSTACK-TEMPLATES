{
 "cells": [
  {
   "cell_type": "code",
   "execution_count": 1,
   "metadata": {
    "collapsed": true
   },
   "outputs": [],
   "source": [
    "from sklearn.linear_model import Perceptron\n",
    "from sklearn.metrics import accuracy_score\n",
    "import numpy as np"
   ]
  },
  {
   "cell_type": "code",
   "execution_count": 2,
   "metadata": {
    "collapsed": true
   },
   "outputs": [],
   "source": [
    "data = [[1.81, 0.80, 0.44],\n",
    "        [1.77, 0.70, 0.43],\n",
    "        [1.60, 0.60, 0.38],\n",
    "        [1.54, 0.54, 0.37],\n",
    "        [1.66, 0.65, 0.40],\n",
    "        [1.90, 0.90, 0.47],\n",
    "        [1.75, 0.64, 0.39],\n",
    "        [1.77, 0.70, 0.40],\n",
    "        [1.59, 0.55, 0.37],\n",
    "        [1.71, 0.75, 0.42],\n",
    "        [1.81, 0.85, 0.43]]\n",
    "\n",
    "results = ['male', 'male', \n",
    "           'female', 'female', \n",
    "           'male', 'male', \n",
    "           'female', 'female', 'female', \n",
    "           'male', 'male']"
   ]
  },
  {
   "cell_type": "code",
   "execution_count": 18,
   "metadata": {
    "collapsed": true
   },
   "outputs": [],
   "source": [
    "classif = Perceptron(alpha=0.0001, class_weight=None, eta0=1.0, fit_intercept=True,\n",
    "      n_iter=1000, n_jobs=1, penalty=None, random_state=0, shuffle=True,\n",
    "      verbose=0, warm_start=False)"
   ]
  },
  {
   "cell_type": "code",
   "execution_count": 19,
   "metadata": {},
   "outputs": [
    {
     "data": {
      "text/plain": [
       "Perceptron(alpha=0.0001, class_weight=None, eta0=1.0, fit_intercept=True,\n",
       "      n_iter=1000, n_jobs=1, penalty=None, random_state=0, shuffle=True,\n",
       "      verbose=0, warm_start=False)"
      ]
     },
     "execution_count": 19,
     "metadata": {},
     "output_type": "execute_result"
    }
   ],
   "source": [
    "classif.fit(data, results)"
   ]
  },
  {
   "cell_type": "code",
   "execution_count": 20,
   "metadata": {},
   "outputs": [
    {
     "name": "stdout",
     "output_type": "stream",
     "text": [
      "Accuracy for perceptron: 90.9090909090909 %\n"
     ]
    }
   ],
   "source": [
    "pred_per = classif.predict(data)\n",
    "acc_per = accuracy_score(results, pred_per) * 100\n",
    "print('Accuracy for perceptron: {} %'.format(acc_per))"
   ]
  },
  {
   "cell_type": "code",
   "execution_count": 22,
   "metadata": {},
   "outputs": [
    {
     "name": "stdout",
     "output_type": "stream",
     "text": [
      "['female']\n"
     ]
    }
   ],
   "source": [
    "prediction = classif.predict([[1.62, 0.49, 0.38]])\n",
    "\n",
    "print(prediction)"
   ]
  }
 ],
 "metadata": {
  "kernelspec": {
   "display_name": "Python 3",
   "language": "python",
   "name": "python3"
  },
  "language_info": {
   "codemirror_mode": {
    "name": "ipython",
    "version": 3
   },
   "file_extension": ".py",
   "mimetype": "text/x-python",
   "name": "python",
   "nbconvert_exporter": "python",
   "pygments_lexer": "ipython3",
   "version": "3.5.2"
  }
 },
 "nbformat": 4,
 "nbformat_minor": 2
}
