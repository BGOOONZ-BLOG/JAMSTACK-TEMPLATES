{
 "cells": [
  {
   "cell_type": "code",
   "execution_count": 1,
   "metadata": {
    "collapsed": true
   },
   "outputs": [],
   "source": [
    "%matplotlib inline"
   ]
  },
  {
   "cell_type": "code",
   "execution_count": 2,
   "metadata": {
    "collapsed": true
   },
   "outputs": [],
   "source": [
    "from matplotlib import pyplot as plt\n",
    "import numpy as np\n",
    "import pandas as pd"
   ]
  },
  {
   "cell_type": "code",
   "execution_count": 28,
   "metadata": {},
   "outputs": [],
   "source": [
    "iris = pd.read_csv(\"data/train.csv\")"
   ]
  },
  {
   "cell_type": "code",
   "execution_count": 29,
   "metadata": {},
   "outputs": [
    {
     "data": {
      "text/plain": [
       "Iris-versicolor    26\n",
       "Iris-setosa        20\n",
       "Name: Species, dtype: int64"
      ]
     },
     "execution_count": 29,
     "metadata": {},
     "output_type": "execute_result"
    }
   ],
   "source": [
    "iris[\"Species\"].value_counts()"
   ]
  },
  {
   "cell_type": "code",
   "execution_count": 30,
   "metadata": {
    "collapsed": true
   },
   "outputs": [],
   "source": [
    "types = iris.Species.drop_duplicates().values.tolist()\n",
    "X = iris.drop(\"Id\",axis=1).values\n",
    "Y = iris[\"Species\"].values\n",
    "\n",
    "labels = dict(zip(types, range(len(iris))))\n",
    "result = iris['SpeciesLabel'] = iris['Species'].replace(labels)"
   ]
  },
  {
   "cell_type": "code",
   "execution_count": 31,
   "metadata": {},
   "outputs": [
    {
     "data": {
      "text/html": [
       "<div>\n",
       "<style>\n",
       "    .dataframe thead tr:only-child th {\n",
       "        text-align: right;\n",
       "    }\n",
       "\n",
       "    .dataframe thead th {\n",
       "        text-align: left;\n",
       "    }\n",
       "\n",
       "    .dataframe tbody tr th {\n",
       "        vertical-align: top;\n",
       "    }\n",
       "</style>\n",
       "<table border=\"1\" class=\"dataframe\">\n",
       "  <thead>\n",
       "    <tr style=\"text-align: right;\">\n",
       "      <th></th>\n",
       "      <th>Id</th>\n",
       "      <th>SepalLengthCm</th>\n",
       "      <th>SepalWidthCm</th>\n",
       "      <th>PetalLengthCm</th>\n",
       "      <th>PetalWidthCm</th>\n",
       "      <th>Species</th>\n",
       "      <th>SpeciesLabel</th>\n",
       "    </tr>\n",
       "  </thead>\n",
       "  <tbody>\n",
       "    <tr>\n",
       "      <th>0</th>\n",
       "      <td>1</td>\n",
       "      <td>5.1</td>\n",
       "      <td>3.5</td>\n",
       "      <td>1.4</td>\n",
       "      <td>0.2</td>\n",
       "      <td>Iris-setosa</td>\n",
       "      <td>0</td>\n",
       "    </tr>\n",
       "    <tr>\n",
       "      <th>1</th>\n",
       "      <td>2</td>\n",
       "      <td>4.9</td>\n",
       "      <td>3.0</td>\n",
       "      <td>1.4</td>\n",
       "      <td>0.2</td>\n",
       "      <td>Iris-setosa</td>\n",
       "      <td>0</td>\n",
       "    </tr>\n",
       "    <tr>\n",
       "      <th>2</th>\n",
       "      <td>3</td>\n",
       "      <td>4.7</td>\n",
       "      <td>3.2</td>\n",
       "      <td>1.3</td>\n",
       "      <td>0.2</td>\n",
       "      <td>Iris-setosa</td>\n",
       "      <td>0</td>\n",
       "    </tr>\n",
       "    <tr>\n",
       "      <th>3</th>\n",
       "      <td>4</td>\n",
       "      <td>4.6</td>\n",
       "      <td>3.1</td>\n",
       "      <td>1.5</td>\n",
       "      <td>0.2</td>\n",
       "      <td>Iris-setosa</td>\n",
       "      <td>0</td>\n",
       "    </tr>\n",
       "    <tr>\n",
       "      <th>4</th>\n",
       "      <td>5</td>\n",
       "      <td>5.0</td>\n",
       "      <td>3.6</td>\n",
       "      <td>1.4</td>\n",
       "      <td>0.2</td>\n",
       "      <td>Iris-setosa</td>\n",
       "      <td>0</td>\n",
       "    </tr>\n",
       "  </tbody>\n",
       "</table>\n",
       "</div>"
      ],
      "text/plain": [
       "   Id  SepalLengthCm  SepalWidthCm  PetalLengthCm  PetalWidthCm      Species  \\\n",
       "0   1            5.1           3.5            1.4           0.2  Iris-setosa   \n",
       "1   2            4.9           3.0            1.4           0.2  Iris-setosa   \n",
       "2   3            4.7           3.2            1.3           0.2  Iris-setosa   \n",
       "3   4            4.6           3.1            1.5           0.2  Iris-setosa   \n",
       "4   5            5.0           3.6            1.4           0.2  Iris-setosa   \n",
       "\n",
       "   SpeciesLabel  \n",
       "0             0  \n",
       "1             0  \n",
       "2             0  \n",
       "3             0  \n",
       "4             0  "
      ]
     },
     "execution_count": 31,
     "metadata": {},
     "output_type": "execute_result"
    }
   ],
   "source": [
    "iris.head()"
   ]
  },
  {
   "cell_type": "code",
   "execution_count": 33,
   "metadata": {},
   "outputs": [],
   "source": [
    "#data\n",
    "data = iris[['SepalLengthCm', 'SepalWidthCm', 'PetalLengthCm', 'PetalWidthCm', 'SpeciesLabel']].values"
   ]
  },
  {
   "cell_type": "code",
   "execution_count": 34,
   "metadata": {
    "collapsed": true
   },
   "outputs": [],
   "source": [
    "def sigmoid(x) :\n",
    "    return 1/(1 + np.exp(-x))\n",
    "\n",
    "def sigmoid_p(x) :\n",
    "    return sigmoid(x) * (1-sigmoid(x))"
   ]
  },
  {
   "cell_type": "code",
   "execution_count": 35,
   "metadata": {},
   "outputs": [
    {
     "data": {
      "text/plain": [
       "[<matplotlib.lines.Line2D at 0x1e62b1b9d30>]"
      ]
     },
     "execution_count": 35,
     "metadata": {},
     "output_type": "execute_result"
    },
    {
     "data": {
      "image/png": "[encoded data removed]",
      "text/plain": [
       "<matplotlib.figure.Figure at 0x1e62a3adac8>"
      ]
     },
     "metadata": {},
     "output_type": "display_data"
    }
   ],
   "source": [
    "# training loop\n",
    "learning_rate = 0.2\n",
    "costs = []\n",
    "\n",
    "# weights & bias value\n",
    "w1 = np.random.randn()\n",
    "w2 = np.random.randn()\n",
    "w3 = np.random.randn()\n",
    "w4 = np.random.randn()\n",
    "b = np.random.randn()\n",
    "\n",
    "for i in range(100000000) :\n",
    "    ri = np.random.randint(len(data))\n",
    "    point = data[ri]\n",
    "    \n",
    "    z = point[0] * w1 + point[1] * w2 + point[2] * w3 + point[3] * w4 + b\n",
    "    prediction = sigmoid(z)\n",
    "    \n",
    "    target = point[4]\n",
    "    \n",
    "    # cost function\n",
    "    cost = np.square(prediction - target)\n",
    "    \n",
    "    # derivative of the cost function\n",
    "    dcost_prediction = 2 * (prediction - target)\n",
    "    \n",
    "    # sigmoid_p which is defined above is the derivative of sigmoid\n",
    "    dprediction_dz = sigmoid_p(z)\n",
    "    \n",
    "    # our input data & affecting 1 to the bias value\n",
    "    dz_dw1 = point[0]\n",
    "    dz_dw2 = point[1]\n",
    "    dz_dw3 = point[2]\n",
    "    dz_dw4 = point[3]\n",
    "    dz_db = 1\n",
    "    \n",
    "    # the slope of the cost function\n",
    "    dcost_dz = dcost_prediction * dprediction_dz\n",
    "    \n",
    "    # the slope of weights & bias value\n",
    "    dcost_dw1 = dcost_dz * dz_dw1\n",
    "    dcost_dw2 = dcost_dz * dz_dw2\n",
    "    dcost_dw3 = dcost_dz * dz_dw3\n",
    "    dcost_dw4 = dcost_dz * dz_dw4\n",
    "    dcost_db = dcost_dz * dz_db\n",
    "    \n",
    "    # getting the new weights & bias values\n",
    "    w1 = w1 - learning_rate * dcost_dw1\n",
    "    w2 = w2 - learning_rate * dcost_dw2\n",
    "    w3 = w3 - learning_rate * dcost_dw3\n",
    "    w4 = w4 - learning_rate * dcost_dw4\n",
    "    b = b - learning_rate * dcost_db\n",
    "    \n",
    "    # this is just for the graph\n",
    "    if i % 100 == 0 :\n",
    "        cost_sum = 0\n",
    "        for j in range(len(data)) :\n",
    "            point = data[ri]\n",
    "            \n",
    "            z = point[0] * w1 + point[1] * w2 + point[2] * w3 + point[3] * w4 + b\n",
    "            prediction = sigmoid(z)\n",
    "            \n",
    "            target = point[4]\n",
    "            cost_sum += np.square(prediction - target)\n",
    "            \n",
    "        costs.append(cost_sum/len(data))\n",
    "\n",
    "plt.plot(costs)"
   ]
  },
  {
   "cell_type": "code",
   "execution_count": 56,
   "metadata": {},
   "outputs": [
    {
     "name": "stdout",
     "output_type": "stream",
     "text": [
      "[ 5.4  3.4  1.7  0.2  0. ]\n",
      "prediction : 0.00012315956338694343\n",
      "[ 5.1  3.7  1.5  0.4  0. ]\n",
      "prediction : 1.667611731798914e-05\n",
      "[ 4.6  3.6  1.   0.2  0. ]\n",
      "prediction : 1.0147945554881121e-06\n",
      "[ 5.1  3.3  1.7  0.5  0. ]\n",
      "prediction : 0.00043051606900162216\n",
      "[ 4.8  3.4  1.9  0.2  0. ]\n",
      "prediction : 0.0009296986905451935\n",
      "[ 5.   3.   1.6  0.2  0. ]\n",
      "prediction : 0.0005282896232918983\n",
      "[ 5.   3.4  1.6  0.4  0. ]\n",
      "prediction : 0.0001332368535877268\n",
      "[ 5.2  3.5  1.5  0.2  0. ]\n",
      "prediction : 2.5235374767196424e-05\n",
      "[ 5.2  3.4  1.4  0.2  0. ]\n",
      "prediction : 1.9475817441436483e-05\n",
      "[ 4.7  3.2  1.6  0.2  0. ]\n",
      "prediction : 0.0003106120757627973\n",
      "[ 4.8  3.1  1.6  0.2  0. ]\n",
      "prediction : 0.00042757346182547933\n",
      "[ 5.4  3.4  1.5  0.4  0. ]\n",
      "prediction : 4.351239098847922e-05\n",
      "[ 5.2  4.1  1.5  0.1  0. ]\n",
      "prediction : 1.6405102318329063e-06\n",
      "[ 5.5  4.2  1.4  0.2  0. ]\n",
      "prediction : 4.5966227197584173e-07\n",
      "[ 4.9  3.1  1.5  0.1  0. ]\n",
      "prediction : 0.00016350702519245087\n",
      "[ 5.   3.2  1.2  0.2  0. ]\n",
      "prediction : 1.4399287769849708e-05\n",
      "[ 5.5  3.5  1.3  0.2  0. ]\n",
      "prediction : 4.619644288090298e-06\n",
      "[ 4.9  3.1  1.5  0.1  0. ]\n",
      "prediction : 0.00016350702519245087\n",
      "[ 4.4  3.   1.3  0.2  0. ]\n",
      "prediction : 0.0001287599076032067\n",
      "[ 5.1  3.4  1.5  0.2  0. ]\n",
      "prediction : 4.3124239747977204e-05\n",
      "[ 5.   3.5  1.3  0.3  0. ]\n",
      "prediction : 9.368069247912615e-06\n",
      "[ 4.5  2.3  1.3  0.3  0. ]\n",
      "prediction : 0.00271980680800006\n",
      "[ 4.4  3.2  1.3  0.2  0. ]\n",
      "prediction : 5.473310998239236e-05\n",
      "[ 5.   3.5  1.6  0.6  0. ]\n",
      "prediction : 0.00012121441682325\n",
      "[ 5.1  3.8  1.9  0.4  0. ]\n",
      "prediction : 0.0001696050598476209\n",
      "[ 4.8  3.   1.4  0.3  0. ]\n",
      "prediction : 0.00019617777714050713\n",
      "[ 5.1  3.8  1.6  0.2  0. ]\n",
      "prediction : 1.548481412640082e-05\n",
      "[ 4.6  3.2  1.4  0.2  0. ]\n",
      "prediction : 8.763094645621212e-05\n",
      "[ 5.3  3.7  1.5  0.2  0. ]\n",
      "prediction : 9.627548906762284e-06\n",
      "[ 5.   3.3  1.4  0.2  0. ]\n",
      "prediction : 3.70805043366937e-05\n",
      "[ 6.8  2.8  4.8  1.4  1. ]\n",
      "prediction : 0.9999997830035414\n",
      "[ 6.7  3.   5.   1.7  1. ]\n",
      "prediction : 0.9999999296243504\n",
      "[ 6.   2.9  4.5  1.5  1. ]\n",
      "prediction : 0.9999990683143293\n",
      "[ 5.7  2.6  3.5  1.   1. ]\n",
      "prediction : 0.9995872602643154\n",
      "[ 5.5  2.4  3.8  1.1  1. ]\n",
      "prediction : 0.9999847537411327\n",
      "[ 5.5  2.4  3.7  1.   1. ]\n",
      "prediction : 0.9999642064077789\n",
      "[ 5.8  2.7  3.9  1.2  1. ]\n",
      "prediction : 0.9999675911737702\n",
      "[ 6.   2.7  5.1  1.6  1. ]\n",
      "prediction : 0.9999999945604034\n",
      "[ 5.4  3.   4.5  1.5  1. ]\n",
      "prediction : 0.9999992528253783\n",
      "[ 6.   3.4  4.5  1.6  1. ]\n",
      "prediction : 0.9999933039204248\n",
      "[ 6.7  3.1  4.7  1.5  1. ]\n",
      "prediction : 0.9999988174948983\n",
      "[ 6.3  2.3  4.4  1.3  1. ]\n",
      "prediction : 0.9999997255899897\n",
      "[ 5.6  3.   4.1  1.3  1. ]\n",
      "prediction : 0.9999798076175488\n",
      "[ 5.5  2.5  4.   1.3  1. ]\n",
      "prediction : 0.9999957572487636\n",
      "[ 5.5  2.6  4.4  1.2  1. ]\n",
      "prediction : 0.9999995072893769\n",
      "[ 6.1  3.   4.6  1.4  1. ]\n",
      "prediction : 0.999999053667012\n",
      "[ 5.8  2.6  4.   1.2  1. ]\n",
      "prediction : 0.9999893685252491\n",
      "[ 5.   2.3  3.3  1.   1. ]\n",
      "prediction : 0.9997879450533139\n",
      "[ 5.6  2.7  4.2  1.3  1. ]\n",
      "prediction : 0.9999971845152515\n",
      "[ 5.7  3.   4.2  1.2  1. ]\n",
      "prediction : 0.9999866283883877\n",
      "[ 5.7  2.9  4.2  1.3  1. ]\n",
      "prediction : 0.9999926200741102\n",
      "[ 6.2  2.9  4.3  1.3  1. ]\n",
      "prediction : 0.9999936255145362\n",
      "[ 5.1  2.5  3.   1.1  1. ]\n",
      "prediction : 0.9963188765644105\n",
      "[ 5.7  2.8  4.1  1.3  1. ]\n",
      "prediction : 0.9999904375843356\n"
     ]
    }
   ],
   "source": [
    "test_data = pd.read_csv(\"data/test.csv\")\n",
    "\n",
    "labels = dict(zip(types, range(len(test_data))))\n",
    "result = test_data['SpeciesLabel'] = test_data['Species'].replace(labels)\n",
    "\n",
    "data_inputs = test_data[['SepalLengthCm', 'SepalWidthCm', 'PetalLengthCm', 'PetalWidthCm', 'SpeciesLabel']].values\n",
    "for i in range(len(data_inputs)) :\n",
    "    point = data_inputs[i]\n",
    "    print(point)\n",
    "    \n",
    "    z = point[0] * w1 + point[1] * w2 + point[2] * w3 + point[3] * w4 + b\n",
    "    prediction = sigmoid(z)\n",
    "    target = point[4]\n",
    "    \n",
    "    print(\"prediction : {}\" .format(prediction))"
   ]
  },
  {
   "cell_type": "code",
   "execution_count": 52,
   "metadata": {
    "collapsed": true
   },
   "outputs": [],
   "source": [
    "# 0 for Iris-setosa and 1 for Iris-versicolor\n",
    "def guess_flower(SepalLength, SepalWidth, PetalLength, PetalWidth) :\n",
    "    z = SepalLength * w1 + SepalWidth * w2 + PetalLength * w3 + PetalWidth * w4 + b\n",
    "    prediction = sigmoid(z)\n",
    "    if prediction < .5:\n",
    "        print('Iris-setosa')\n",
    "    else:\n",
    "        print('Iris-versicolor')"
   ]
  },
  {
   "cell_type": "code",
   "execution_count": 53,
   "metadata": {},
   "outputs": [
    {
     "name": "stdout",
     "output_type": "stream",
     "text": [
      "Iris-setosa\n"
     ]
    }
   ],
   "source": [
    "guess_flower(4.8, 3.0, 1.4, 0.3)"
   ]
  },
  {
   "cell_type": "code",
   "execution_count": 54,
   "metadata": {},
   "outputs": [
    {
     "name": "stdout",
     "output_type": "stream",
     "text": [
      "Iris-setosa\n"
     ]
    }
   ],
   "source": [
    "guess_flower(5.1, 3.7, 1.5, 0.4)"
   ]
  },
  {
   "cell_type": "code",
   "execution_count": 55,
   "metadata": {},
   "outputs": [
    {
     "name": "stdout",
     "output_type": "stream",
     "text": [
      "Iris-versicolor\n"
     ]
    }
   ],
   "source": [
    "guess_flower(6.7, 3.0, 5.0, 1.7)"
   ]
  }
 ],
 "metadata": {
  "kernelspec": {
   "display_name": "Python 3",
   "language": "python",
   "name": "python3"
  },
  "language_info": {
   "codemirror_mode": {
    "name": "ipython",
    "version": 3
   },
   "file_extension": ".py",
   "mimetype": "text/x-python",
   "name": "python",
   "nbconvert_exporter": "python",
   "pygments_lexer": "ipython3",
   "version": "3.5.2"
  }
 },
 "nbformat": 4,
 "nbformat_minor": 2
}
