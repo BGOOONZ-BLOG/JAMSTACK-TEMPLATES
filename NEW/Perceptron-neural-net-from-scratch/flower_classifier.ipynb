{
 "cells": [
  {
   "cell_type": "code",
   "execution_count": 2,
   "metadata": {
    "collapsed": true
   },
   "outputs": [],
   "source": [
    "%matplotlib inline"
   ]
  },
  {
   "cell_type": "code",
   "execution_count": 3,
   "metadata": {
    "collapsed": true
   },
   "outputs": [],
   "source": [
    "from matplotlib import pyplot as plt\n",
    "import numpy as np"
   ]
  },
  {
   "cell_type": "code",
   "execution_count": 4,
   "metadata": {
    "collapsed": true
   },
   "outputs": [],
   "source": [
    "# each point is Sepal length on Cm, Sepal width on Cm & type (0.1)\n",
    "# 0 for Iris-setosa & 1 for Iris-versicolor\n",
    "data = [[ 5.1,  3.5,  0 ],\n",
    "       [ 4.9,  3. ,  0 ],\n",
    "       [ 4.7,  3.2,  0 ],\n",
    "       [ 4.6,  3.1,  0 ],\n",
    "       [ 5. ,  3.6,  0 ],\n",
    "       [ 5.4,  3.9,  0 ],\n",
    "       [ 4.6,  3.4,  0 ],\n",
    "       [ 5. ,  3.4,  0 ],\n",
    "       [ 4.4,  2.9,  0 ],\n",
    "       [ 4.9,  3.1,  0 ],\n",
    "       [ 5.4,  3.7,  0 ],\n",
    "       [ 4.8,  3.4,  0 ],\n",
    "       [ 4.8,  3. ,  0 ],\n",
    "       [ 4.3,  3. ,  0 ],\n",
    "       [ 5.8,  4. ,  0 ],\n",
    "       [ 5.7,  4.4,  0 ],\n",
    "       [ 5.4,  3.9,  0 ],\n",
    "       [ 5.1,  3.5,  0 ],\n",
    "       [ 5.7,  3.8,  0 ],\n",
    "       [ 5.1,  3.8,  0 ],\n",
    "       [ 7. ,  3.2,  1 ],\n",
    "       [ 6.4,  3.2,  1 ],\n",
    "       [ 6.9,  3.1,  1 ],\n",
    "       [ 5.5,  2.3,  1 ],\n",
    "       [ 6.5,  2.8,  1 ],\n",
    "       [ 5.7,  2.8,  1 ],\n",
    "       [ 6.3,  3.3,  1 ],\n",
    "       [ 4.9,  2.4,  1 ],\n",
    "       [ 6.6,  2.9,  1 ],\n",
    "       [ 5.2,  2.7,  1 ],\n",
    "       [ 5. ,  2. ,  1 ],\n",
    "       [ 5.9,  3. ,  1 ],\n",
    "       [ 6. ,  2.2,  1 ],\n",
    "       [ 6.1,  2.9,  1 ],\n",
    "       [ 5.6,  2.9,  1 ],\n",
    "       [ 6.7,  3.1,  1 ],\n",
    "       [ 5.6,  3. ,  1 ],\n",
    "       [ 5.8,  2.7,  1 ],\n",
    "       [ 6.2,  2.2,  1 ],\n",
    "       [ 5.6,  2.5,  1 ],\n",
    "       [ 5.9,  3.2,  1 ],\n",
    "       [ 6.1,  2.8,  1 ],\n",
    "       [ 6.3,  2.5,  1 ],\n",
    "       [ 6.1,  2.8,  1 ],\n",
    "       [ 6.4,  2.9,  1 ]]\n",
    "\n",
    "mystery_flower = [ 6.6,  3]"
   ]
  },
  {
   "cell_type": "code",
   "execution_count": 5,
   "metadata": {
    "collapsed": true
   },
   "outputs": [],
   "source": [
    "def sigmoid(x) :\n",
    "    return 1/(1 + np.exp(-x))\n",
    "\n",
    "def sigmoid_p(x) :\n",
    "    return sigmoid(x) * (1-sigmoid(x))"
   ]
  },
  {
   "cell_type": "code",
   "execution_count": 6,
   "metadata": {},
   "outputs": [
    {
     "data": {
      "text/plain": [
       "[<matplotlib.lines.Line2D at 0x1ff7b33be10>]"
      ]
     },
     "execution_count": 6,
     "metadata": {},
     "output_type": "execute_result"
    },
    {
     "data": {
      "image/png": "[encoded data removed]",
      "text/plain": [
       "<matplotlib.figure.Figure at 0x1ff009deba8>"
      ]
     },
     "metadata": {},
     "output_type": "display_data"
    }
   ],
   "source": [
    "T = np.linspace(-6, 6, 100)\n",
    "plt.plot(T, sigmoid(T), c='r')\n",
    "plt.plot(T, sigmoid_p(T), c='b')"
   ]
  },
  {
   "cell_type": "code",
   "execution_count": 11,
   "metadata": {},
   "outputs": [
    {
     "data": {
      "image/png": "[encoded data removed]",
      "text/plain": [
       "<matplotlib.figure.Figure at 0x1ff012766d8>"
      ]
     },
     "metadata": {},
     "output_type": "display_data"
    }
   ],
   "source": [
    "# scatter data\n",
    "plt.axis([0, 10, 0, 6])\n",
    "plt.grid()\n",
    "for i in range(len(data)) :\n",
    "    point = data[i]\n",
    "    color = \"r\"\n",
    "    if point[2] == 0 :\n",
    "        color = \"b\"\n",
    "    plt.scatter(point[0], point[1], c=color)"
   ]
  },
  {
   "cell_type": "code",
   "execution_count": 12,
   "metadata": {},
   "outputs": [
    {
     "data": {
      "text/plain": [
       "[<matplotlib.lines.Line2D at 0x1ff00ebadd8>]"
      ]
     },
     "execution_count": 12,
     "metadata": {},
     "output_type": "execute_result"
    },
    {
     "data": {
      "image/png": "[encoded data removed]",
      "text/plain": [
       "<matplotlib.figure.Figure at 0x1ff011d1b38>"
      ]
     },
     "metadata": {},
     "output_type": "display_data"
    }
   ],
   "source": [
    "# training loop\n",
    "learning_rate = 0.2\n",
    "costs = []\n",
    "\n",
    "# generating the weights & the bias\n",
    "w1 = np.random.randn()\n",
    "w2 = np.random.randn()\n",
    "b = np.random.randn()\n",
    "\n",
    "for i in range(100000000) :\n",
    "    ri = np.random.randint(len(data))\n",
    "    point = data[ri]\n",
    "    \n",
    "    z = point[0] * w1 + point[1] * w2 + b\n",
    "    prediction = sigmoid(z)\n",
    "    \n",
    "    target = point[2]\n",
    "    \n",
    "    # cost function\n",
    "    cost = np.square(prediction - target)\n",
    "    \n",
    "    #derivative of the cost function\n",
    "    dcost_prediction = 2 * (prediction -target)\n",
    "    dprediction_dz = sigmoid_p(z)\n",
    "    \n",
    "    dz_dw1 = point[0]\n",
    "    dz_dw2 = point[1]\n",
    "    dz_db = 1\n",
    "    \n",
    "    # the slope of the cost function\n",
    "    dcost_dz = dcost_prediction * dprediction_dz\n",
    "    \n",
    "    # the slope of the weights & bias\n",
    "    dcost_dw1 = dcost_dz * dz_dw1\n",
    "    dcost_dw2 = dcost_dz * dz_dw2\n",
    "    dcost_db = dcost_dz * dz_db\n",
    "    \n",
    "    # Getting new weights & bias\n",
    "    w1 = w1 - learning_rate * dcost_dw1\n",
    "    w2 = w2 - learning_rate * dcost_dw2\n",
    "    b = b - learning_rate * dcost_db\n",
    "    \n",
    "    # this is only for the graph shown below\n",
    "    if i % 100 == 0 :\n",
    "        cost_sum = 0\n",
    "        for j in range(len(data)) :\n",
    "            point = data[ri]\n",
    "            \n",
    "            z = point[0] * w1 + point[1] * w2 + b\n",
    "            prediction = sigmoid(z)\n",
    "            \n",
    "            target = point[2]\n",
    "            cost_sum += np.square(prediction - target)\n",
    "            \n",
    "        costs.append(cost_sum/len(data))\n",
    "\n",
    "plt.plot(costs)"
   ]
  },
  {
   "cell_type": "code",
   "execution_count": 13,
   "metadata": {},
   "outputs": [
    {
     "name": "stdout",
     "output_type": "stream",
     "text": [
      "[5.4, 3.4, 0.0]\n",
      "prediction : 0.0003732119461262876\n",
      "[4.6, 3.6, 0.0]\n",
      "prediction : 1.6165529365220325e-12\n",
      "[5.1, 3.3, 0.0]\n",
      "prediction : 3.021129787190027e-05\n",
      "[4.8, 3.4, 0.0]\n",
      "prediction : 1.12668940728321e-08\n",
      "[5.0, 3.0, 0.0]\n",
      "prediction : 0.016754201762655997\n",
      "[5.0, 3.4, 0.0]\n",
      "prediction : 3.618888511649216e-07\n",
      "[5.2, 3.5, 0.0]\n",
      "prediction : 7.890864629233378e-07\n",
      "[5.2, 3.4, 0.0]\n",
      "prediction : 1.1623621451677782e-05\n",
      "[4.7, 3.2, 0.0]\n",
      "prediction : 4.3138158005368305e-07\n",
      "[4.8, 3.1, 0.0]\n",
      "prediction : 3.601250126422596e-05\n",
      "[5.4, 3.4, 0.0]\n",
      "prediction : 0.0003732119461262876\n",
      "[5.2, 4.1, 0.0]\n",
      "prediction : 7.72316857328119e-14\n",
      "[5.5, 4.2, 0.0]\n",
      "prediction : 9.54400506930689e-13\n",
      "[4.9, 3.1, 0.0]\n",
      "prediction : 0.00020406375151535422\n",
      "[5.0, 3.2, 0.0]\n",
      "prediction : 7.85207427420422e-05\n",
      "[5.5, 3.5, 0.0]\n",
      "prediction : 0.00014362143923047358\n",
      "[4.9, 3.1, 0.0]\n",
      "prediction : 0.00020406375151535422\n",
      "[4.4, 3.0, 0.0]\n",
      "prediction : 5.142188396445505e-07\n",
      "[5.1, 3.4, 0.0]\n",
      "prediction : 2.050973470283607e-06\n",
      "[5.0, 3.5, 0.0]\n",
      "prediction : 2.456709357921419e-08\n",
      "[4.5, 2.3, 0.0]\n",
      "prediction : 0.9977252890987481\n",
      "[4.4, 3.2, 0.0]\n",
      "prediction : 2.36976382646786e-09\n",
      "[5.0, 3.5, 0.0]\n",
      "prediction : 2.456709357921419e-08\n",
      "[5.1, 3.8, 0.0]\n",
      "prediction : 4.3558674189257405e-11\n",
      "[4.8, 3.0, 0.0]\n",
      "prediction : 0.0005302249529480519\n",
      "[5.1, 3.8, 0.0]\n",
      "prediction : 4.3558674189257405e-11\n",
      "[4.6, 3.2, 0.0]\n",
      "prediction : 7.611603877653836e-08\n",
      "[5.3, 3.7, 0.0]\n",
      "prediction : 2.0609495398696686e-08\n",
      "[5.0, 3.3, 0.0]\n",
      "prediction : 5.33082733624256e-06\n",
      "[6.8, 2.8, 1.0]\n",
      "prediction : 0.9999999999999927\n",
      "[6.7, 3.0, 1.0]\n",
      "prediction : 0.9999999999908593\n",
      "[6.0, 2.9, 1.0]\n",
      "prediction : 0.9999998834637569\n",
      "[5.7, 2.6, 1.0]\n",
      "prediction : 0.9999999933632866\n",
      "[5.5, 2.4, 1.0]\n",
      "prediction : 0.9999999990176165\n",
      "[5.5, 2.4, 1.0]\n",
      "prediction : 0.9999999990176165\n",
      "[5.8, 2.7, 1.0]\n",
      "prediction : 0.9999999827500016\n",
      "[6.0, 2.7, 1.0]\n",
      "prediction : 0.999999999462946\n",
      "[5.4, 3.0, 1.0]\n",
      "prediction : 0.946176935006161\n",
      "[6.0, 3.4, 1.0]\n",
      "prediction : 0.925215464931152\n",
      "[6.7, 3.1, 1.0]\n",
      "prediction : 0.9999999998653504\n",
      "[6.3, 2.3, 1.0]\n",
      "prediction : 1.0\n",
      "[5.6, 3.0, 1.0]\n",
      "prediction : 0.9982321050431041\n",
      "[5.5, 2.5, 1.0]\n",
      "prediction : 0.9999999855288635\n",
      "[5.5, 2.6, 1.0]\n",
      "prediction : 0.9999997868309635\n",
      "[6.1, 3.0, 1.0]\n",
      "prediction : 0.9999996971016345\n",
      "[5.8, 2.6, 1.0]\n",
      "prediction : 0.9999999988289714\n",
      "[5.0, 2.3, 1.0]\n",
      "prediction : 0.9999996100695085\n",
      "[5.6, 2.7, 1.0]\n",
      "prediction : 0.9999994459359501\n",
      "[5.7, 3.0, 1.0]\n",
      "prediction : 0.999687605299007\n",
      "[5.7, 2.9, 1.0]\n",
      "prediction : 0.9999787866836839\n",
      "[6.2, 2.9, 1.0]\n",
      "prediction : 0.9999999963718109\n",
      "[5.1, 2.5, 1.0]\n",
      "prediction : 0.9999850707341843\n",
      "[5.7, 2.8, 1.0]\n",
      "prediction : 0.9999985598902685\n"
     ]
    }
   ],
   "source": [
    "# prediction\n",
    "#test data\n",
    "test_data = [[ 5.4,  3.4,  0. ],\n",
    "           [ 4.6,  3.6,  0. ],\n",
    "           [ 5.1,  3.3,  0. ],\n",
    "           [ 4.8,  3.4,  0. ],\n",
    "           [ 5. ,  3. ,  0. ],\n",
    "           [ 5. ,  3.4,  0. ],\n",
    "           [ 5.2,  3.5,  0. ],\n",
    "           [ 5.2,  3.4,  0. ],\n",
    "           [ 4.7,  3.2,  0. ],\n",
    "           [ 4.8,  3.1,  0. ],\n",
    "           [ 5.4,  3.4,  0. ],\n",
    "           [ 5.2,  4.1,  0. ],\n",
    "           [ 5.5,  4.2,  0. ],\n",
    "           [ 4.9,  3.1,  0. ],\n",
    "           [ 5. ,  3.2,  0. ],\n",
    "           [ 5.5,  3.5,  0. ],\n",
    "           [ 4.9,  3.1,  0. ],\n",
    "           [ 4.4,  3. ,  0. ],\n",
    "           [ 5.1,  3.4,  0. ],\n",
    "           [ 5. ,  3.5,  0. ],\n",
    "           [ 4.5,  2.3,  0. ],\n",
    "           [ 4.4,  3.2,  0. ],\n",
    "           [ 5. ,  3.5,  0. ],\n",
    "           [ 5.1,  3.8,  0. ],\n",
    "           [ 4.8,  3. ,  0. ],\n",
    "           [ 5.1,  3.8,  0. ],\n",
    "           [ 4.6,  3.2,  0. ],\n",
    "           [ 5.3,  3.7,  0. ],\n",
    "           [ 5. ,  3.3,  0. ],\n",
    "           [ 6.8,  2.8,  1. ],\n",
    "           [ 6.7,  3. ,  1. ],\n",
    "           [ 6. ,  2.9,  1. ],\n",
    "           [ 5.7,  2.6,  1. ],\n",
    "           [ 5.5,  2.4,  1. ],\n",
    "           [ 5.5,  2.4,  1. ],\n",
    "           [ 5.8,  2.7,  1. ],\n",
    "           [ 6. ,  2.7,  1. ],\n",
    "           [ 5.4,  3. ,  1. ],\n",
    "           [ 6. ,  3.4,  1. ],\n",
    "           [ 6.7,  3.1,  1. ],\n",
    "           [ 6.3,  2.3,  1. ],\n",
    "           [ 5.6,  3. ,  1. ],\n",
    "           [ 5.5,  2.5,  1. ],\n",
    "           [ 5.5,  2.6,  1. ],\n",
    "           [ 6.1,  3. ,  1. ],\n",
    "           [ 5.8,  2.6,  1. ],\n",
    "           [ 5. ,  2.3,  1. ],\n",
    "           [ 5.6,  2.7,  1. ],\n",
    "           [ 5.7,  3. ,  1. ],\n",
    "           [ 5.7,  2.9,  1. ],\n",
    "           [ 6.2,  2.9,  1. ],\n",
    "           [ 5.1,  2.5,  1. ],\n",
    "           [ 5.7,  2.8,  1. ]]\n",
    "\n",
    "for i in range(len(test_data)) :\n",
    "    point = test_data[i]\n",
    "    print(point)\n",
    "    \n",
    "    z = point[0] * w1 + point[1] * w2 + b\n",
    "    prediction = sigmoid(z)\n",
    "    print(\"prediction : {}\" .format(prediction))"
   ]
  },
  {
   "cell_type": "code",
   "execution_count": 27,
   "metadata": {},
   "outputs": [
    {
     "data": {
      "text/plain": [
       "0.99999999994819522"
      ]
     },
     "execution_count": 27,
     "metadata": {},
     "output_type": "execute_result"
    }
   ],
   "source": [
    "z = mystery_flower[0] * w1 + mystery_flower[1] * w2 + b\n",
    "prediction = sigmoid(z)\n",
    "prediction"
   ]
  },
  {
   "cell_type": "code",
   "execution_count": 28,
   "metadata": {
    "collapsed": true
   },
   "outputs": [],
   "source": [
    "# 0 for Iris-setosa and 1 for Iris-versicolor\n",
    "def guess_flower(SepalLength, SepalWidth) :\n",
    "    z = SepalLength * w1 + SepalWidth * w2 + b\n",
    "    prediction = sigmoid(z)\n",
    "    if prediction < .5:\n",
    "        print('Iris-setosa')\n",
    "    else:\n",
    "        print('Iris-versicolor')"
   ]
  },
  {
   "cell_type": "code",
   "execution_count": 29,
   "metadata": {},
   "outputs": [
    {
     "name": "stdout",
     "output_type": "stream",
     "text": [
      "Iris-setosa\n"
     ]
    }
   ],
   "source": [
    "guess_flower(4.8, 3.0)"
   ]
  },
  {
   "cell_type": "code",
   "execution_count": 30,
   "metadata": {},
   "outputs": [
    {
     "name": "stdout",
     "output_type": "stream",
     "text": [
      "Iris-versicolor\n"
     ]
    }
   ],
   "source": [
    "guess_flower(6.7, 3.0)"
   ]
  },
  {
   "cell_type": "code",
   "execution_count": 31,
   "metadata": {},
   "outputs": [
    {
     "name": "stdout",
     "output_type": "stream",
     "text": [
      "Iris-setosa\n"
     ]
    }
   ],
   "source": [
    "guess_flower(5.1, 3.7)"
   ]
  },
  {
   "cell_type": "code",
   "execution_count": null,
   "metadata": {
    "collapsed": true
   },
   "outputs": [],
   "source": []
  }
 ],
 "metadata": {
  "kernelspec": {
   "display_name": "Python 3",
   "language": "python",
   "name": "python3"
  },
  "language_info": {
   "codemirror_mode": {
    "name": "ipython",
    "version": 3
   },
   "file_extension": ".py",
   "mimetype": "text/x-python",
   "name": "python",
   "nbconvert_exporter": "python",
   "pygments_lexer": "ipython3",
   "version": "3.5.2"
  }
 },
 "nbformat": 4,
 "nbformat_minor": 2
}
